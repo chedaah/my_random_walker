{
  "nbformat": 4,
  "nbformat_minor": 0,
  "metadata": {
    "colab": {
      "name": "Untitled2.ipynb",
      "provenance": [],
      "include_colab_link": true
    },
    "kernelspec": {
      "name": "python3",
      "display_name": "Python 3"
    }
  },
  "cells": [
    {
      "cell_type": "markdown",
      "metadata": {
        "id": "view-in-github",
        "colab_type": "text"
      },
      "source": [
        "<a href=\"https://colab.research.google.com/github/chedaah/my_random_walker/blob/master/Untitled2.ipynb\" target=\"_parent\"><img src=\"https://colab.research.google.com/assets/colab-badge.svg\" alt=\"Open In Colab\"/></a>"
      ]
    },
    {
      "cell_type": "code",
      "metadata": {
        "id": "EgGahT_xtaHK",
        "colab_type": "code",
        "colab": {
          "base_uri": "https://localhost:8080/",
          "height": 34
        },
        "outputId": "0d81f92c-7898-48d4-9d19-eed67589a87c"
      },
      "source": [
        "from random import random\n",
        "\n",
        "def get_max_dist():\n",
        "    walker = 0\n",
        "    max_dist = 0\n",
        "\n",
        "    while 1:\n",
        "        if random() < 0.5:\n",
        "            walker += 1\n",
        "            max_dist = walker\n",
        "        else:\n",
        "            walker += -1\n",
        "            if walker <0:\n",
        "                return max_dist\n",
        "lista = []\n",
        "for _ in range(30000):\n",
        "    lista.append(get_max_dist())\n",
        "\n",
        "print(max(lista))"
      ],
      "execution_count": 48,
      "outputs": [
        {
          "output_type": "stream",
          "text": [
            "18\n"
          ],
          "name": "stdout"
        }
      ]
    },
    {
      "cell_type": "code",
      "metadata": {
        "id": "GZMIXYLguxYm",
        "colab_type": "code",
        "colab": {
          "base_uri": "https://localhost:8080/",
          "height": 265
        },
        "outputId": "7d160c30-c01f-42d6-c986-53f3da9336fb"
      },
      "source": [
        "import matplotlib.pyplot as plt\n",
        "\n",
        "plt.hist(lista, bins=range(19))\n",
        "plt.show()"
      ],
      "execution_count": 53,
      "outputs": [
        {
          "output_type": "display_data",
          "data": {
            "image/png": "[encoded data removed]",
            "text/plain": [
              "<Figure size 432x288 with 1 Axes>"
            ]
          },
          "metadata": {
            "tags": []
          }
        }
      ]
    },
    {
      "cell_type": "code",
      "metadata": {
        "id": "71q7J99Q3aaK",
        "colab_type": "code",
        "colab": {
          "base_uri": "https://localhost:8080/",
          "height": 175
        },
        "outputId": "875f0bd0-476f-41cd-de82-b3821b450ffe"
      },
      "source": [
        "sum_ = 0\n",
        "for i in range(1,8):\n",
        "    print(lista.count(i-1)/lista.count(i))\n",
        "    sum_ += lista.count(i-1)/lista.count(i)\n",
        "print('avg: ',sum_/7) #"
      ],
      "execution_count": 64,
      "outputs": [
        {
          "output_type": "stream",
          "text": [
            "2.0105756358768407\n",
            "2.0016077170418005\n",
            "1.9978586723768736\n",
            "1.8531746031746033\n",
            "2.423076923076923\n",
            "1.7049180327868851\n",
            "1.876923076923077\n",
            "avg:  1.9811620944652863\n",
            "1.0018\n"
          ],
          "name": "stdout"
        }
      ]
    },
    {
      "cell_type": "code",
      "metadata": {
        "id": "11nGoLWI8QBf",
        "colab_type": "code",
        "colab": {}
      },
      "source": [
        "def get_T():\n",
        "    walker = 0\n",
        "    max_dist = 0\n",
        "    T_count = 0\n",
        "\n",
        "    while 1:\n",
        "        if random() < 0.5:\n",
        "            walker += 1\n",
        "            \n",
        "        else:\n",
        "            walker += -1\n",
        "            if walker <0:\n",
        "                return max_dist\n",
        "lista = []\n",
        "for _ in range(30000):\n",
        "    lista.append(get_max_dist())\n",
        "\n",
        "print(max(lista))"
      ],
      "execution_count": 0,
      "outputs": []
    }
  ]
}